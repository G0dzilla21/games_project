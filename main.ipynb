{
 "cells": [
  {
   "cell_type": "code",
   "execution_count": 1,
   "id": "32de8849",
   "metadata": {
    "scrolled": true
   },
   "outputs": [
    {
     "name": "stdout",
     "output_type": "stream",
     "text": [
      "\n",
      "~~~~~~~~~~~~~~~~~~~~~~~~~~~~~~~~~~~~~~~~~~~~~~~~~~~~~~~~~~~~~~\n",
      "\n",
      " Welcome to the game menu! Please choose one of the following:  \n",
      "\n",
      "~~~~~~~~~~~~~~~~~~~~~~~~~~~~~~~~~~~~~~~~~~~~~~~~~~~~~~~~~~~~~~\n",
      "\n",
      "1. Rock, Paper, Scissors\n",
      "\n",
      "q: Quit\n",
      "\n",
      "Please make a selection: 1\n",
      "How many players (1 or 2): 1\n"
     ]
    },
    {
     "ename": "TypeError",
     "evalue": "multiplayer_start() missing 2 required positional arguments: 'players' and 'replay1'",
     "output_type": "error",
     "traceback": [
      "\u001b[1;31m---------------------------------------------------------------------------\u001b[0m",
      "\u001b[1;31mTypeError\u001b[0m                                 Traceback (most recent call last)",
      "Input \u001b[1;32mIn [1]\u001b[0m, in \u001b[0;36m<cell line: 36>\u001b[1;34m()\u001b[0m\n\u001b[0;32m     34\u001b[0m         \u001b[38;5;28;01melse\u001b[39;00m:\n\u001b[0;32m     35\u001b[0m             main()\n\u001b[1;32m---> 36\u001b[0m \u001b[43mmain\u001b[49m\u001b[43m(\u001b[49m\u001b[43m)\u001b[49m\n",
      "Input \u001b[1;32mIn [1]\u001b[0m, in \u001b[0;36mmain\u001b[1;34m()\u001b[0m\n\u001b[0;32m     19\u001b[0m \u001b[38;5;66;03m#importing and starting our rock paper scissors game\u001b[39;00m\n\u001b[0;32m     20\u001b[0m rps\u001b[38;5;241m.\u001b[39mplayers_prompt()\n\u001b[1;32m---> 21\u001b[0m \u001b[43mrps\u001b[49m\u001b[38;5;241;43m.\u001b[39;49m\u001b[43mmultiplayer_start\u001b[49m\u001b[43m(\u001b[49m\u001b[43m)\u001b[49m\n\u001b[0;32m     22\u001b[0m rps\u001b[38;5;241m.\u001b[39msingleplayer_start()\n\u001b[0;32m     23\u001b[0m rps\u001b[38;5;241m.\u001b[39mrecord_results()\n",
      "\u001b[1;31mTypeError\u001b[0m: multiplayer_start() missing 2 required positional arguments: 'players' and 'replay1'"
     ]
    }
   ],
   "source": [
    "def main():\n",
    "    replay = \"1\"\n",
    "    print(\"\\n~~~~~~~~~~~~~~~~~~~~~~~~~~~~~~~~~~~~~~~~~~~~~~~~~~~~~~~~~~~~~~\\n\")\n",
    "    print(\" Welcome to the game menu! Please choose one of the following:  \\n\")\n",
    "    print(\"~~~~~~~~~~~~~~~~~~~~~~~~~~~~~~~~~~~~~~~~~~~~~~~~~~~~~~~~~~~~~~\\n\")\n",
    "\n",
    "\n",
    "    print(\"1. Rock, Paper, Scissors\\n\")\n",
    "    print(\"q: Quit\\n\")\n",
    "\n",
    "\n",
    "    prompt = input(\"Please make a selection: \")\n",
    "    while prompt != \"1\" and prompt != \"q\":\n",
    "            prompt = input(\"Invalid input. Please make a selection: \")\n",
    "    \n",
    "\n",
    "    while prompt == \"1\" and replay == \"1\":\n",
    "        import r_p_s as rps\n",
    "        #importing and starting our rock paper scissors game\n",
    "        rps.players_prompt()\n",
    "        rps.multiplayer_start()\n",
    "        rps.singleplayer_start()\n",
    "        rps.record_results()\n",
    "        replay = input(\"\\nWould you like to restart rock, paper, scissors? 1 for yes, 2 for no: \")\n",
    "         #ensuring the user's input is correct\n",
    "        while replay != \"1\" and replay != \"2\":\n",
    "            replay = input(\"\\nInvalid input. Would you like to restart rock, paper, scissors? 1 for yes, 2 for no: \")\n",
    "            print('')\n",
    "    ##insert while loop for second game here\n",
    "    \n",
    "    else:\n",
    "        if prompt == \"q\":\n",
    "            SystemExit(0)\n",
    "        else:\n",
    "            main()\n",
    "main()         "
   ]
  },
  {
   "cell_type": "code",
   "execution_count": null,
   "id": "83d24f4e",
   "metadata": {},
   "outputs": [],
   "source": []
  },
  {
   "cell_type": "code",
   "execution_count": null,
   "id": "52fa0bf0",
   "metadata": {},
   "outputs": [],
   "source": []
  },
  {
   "cell_type": "code",
   "execution_count": null,
   "id": "d5ae983d",
   "metadata": {},
   "outputs": [],
   "source": []
  }
 ],
 "metadata": {
  "kernelspec": {
   "display_name": "Python 3 (ipykernel)",
   "language": "python",
   "name": "python3"
  },
  "language_info": {
   "codemirror_mode": {
    "name": "ipython",
    "version": 3
   },
   "file_extension": ".py",
   "mimetype": "text/x-python",
   "name": "python",
   "nbconvert_exporter": "python",
   "pygments_lexer": "ipython3",
   "version": "3.9.12"
  }
 },
 "nbformat": 4,
 "nbformat_minor": 5
}
